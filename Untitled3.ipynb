{
 "cells": [
  {
   "cell_type": "code",
   "execution_count": 2,
   "metadata": {},
   "outputs": [
    {
     "name": "stdout",
     "output_type": "stream",
     "text": [
      "SÜRÜLMƏ₁^^^^\t\t\t\t“Sürülmək1”dən f.is.\t\t\t\t\t\t\t^^^^OPÁL^^^^\t\t\t\t[lat.] Bəzi növləri qiymətli sayılanşəffaf şüşəvari daş.\t\t\t\t\t\t\t^^^^DÜRƏNGLİK^^^^\t\t\t\tis. köhn. 1. İki rənglik.2. məc. İkiüzlülük, riyakarlıq.\t\t\t\t\t\t\t\t\t^^^^QEYRİ-LEQAL^^^^\t\t\t\tsif. [ər. qeyri və fr. leqal]Leqal olmayan, gizli şəraitdə işləməyə məcburolan, qanunən yol verilməyən.\t\t\t\t\t\t\t\t\t^^^^FAKULTATİ́V^^^^\t\t\t\tsif. [fr.] Məcburi olmayan,könüllü, öz arzusu ilə seçilən. Mühazirələrinfakultativ kursu.\t\t\t\t\t\t\t^^^^PLUTOKRATİ́K^^^^\t\t\t\t[yun.] kit. “Plutokratiya”söz. sif. Plutokratik idarə üsulu.\t\t\t\t\t\t\t^^^^ÜMUMDÜNYA^^^^\t\t\t\tis. [ər.] Bütün dünyaya,dünyanın bütün ölkələrinə aid.\t\t\t\t\t\t\t\t\t^^^^KÜLƏKLİ-YAĞIŞLI^^^^\t\t\t\tsif. Həm külək əsən,həm də yağış yağan. Küləkli-yağışlı hava.\t\t\t\t\t\t\t\t\t^^^^NİŞASTASIZ^^^^\t\t\t\tsif. 1. Nişasta vurulmamış;kraxmalsız. Nişastasız döşəkağı.2. Tərkibində nişasta olmayan.\t\t\t\t\t\t\t^^^^ŞEŞƏLƏNMƏ^^^^\t\t\t\t“Şeşələnmək”dən f.is.\t\t\t\t\t\t\t^^^^MARAQLANMA^^^^\t\t\t\t“Maraqlanmaq”dan f.is.\t\t\t\t\t\t\t^^^^ƏYİRTMƏ^^^^\t\t\t\t1. “Əyirtmək”dən f.is.2. sif. Əyirdilmiş. Əyirtmə ipək sapı.\t\t\t\t\t\t\t^^^^HƏZİN^^^^\t\t\t\tsif. [ər.] Hüzn gətirən, hüzn doğuran,hüznlü, kədərli, yanıqlı.\t\t\t\t\t\t\t\t\t^^^^LİRİZM^^^^\t\t\t\t[yun.] 1. İncəsənət əsərində emosionallıq,bədii həyəcan, səmimi duyğu ünsürləri.\t\t\t\t\t\t\t\t\t^^^^USTALIQ^^^^\t\t\t\tis. 1. Hər hansı bir sahədə çalışanustanın işi, peşəsi.\t\t\t\t\t\t\t\t\t^^^^JİROVKÁ^^^^\t\t\t\t[rus. ital. giro-dan] mal. Qarşılıqlıborcun ödənilməsi haqqında haqqhesabəməliyyatı və bu əməliyyat üçün əsasolan sənəd.\t\t\t\t\t\t\t^^^^VƏHHABİLİK^^^^\t\t\t\tis. XVIII əsrin sonlarındaMərkəzi Ərəbistanda yaranmış dini-siyasicərəyan.\t\t\t\t\t\t\t^^^^Ç^^^^\t\t\t\tAzərbaycan əlifbasının dördüncü hərfi.Bax çe.\t\t\t\t\t\t\t^^^^TƏNBƏLLƏNMƏK^^^^\t\t\t\tf. Tənbəllik etmək,tənbəl olmaq, tənbəlləşmək.\t\t\t\t\t\t\t\t\t^^^^BƏZƏNDİRMƏK^^^^\t\t\t\tf. Bəzəmək, yaraşıqlıpaltar geyindirmək.\t\t\t\t\t\t\t\t\t^^^^ÖZÜL^^^^\t\t\t\tis. Bünövrə, təməl, əsas. Binanınözülü. – Qoyuldu özüllər, boylandı tağlar;Tikildi divarlar, şumal dirəklər.\t\t\t\t\t\t\t\t\t^^^^İŞLƏNİLMƏ^^^^\t\t\t\t“İşlənilmək”dən f.is.\t\t\t\t\t\t\t^^^^RAHATCA(SINA)^^^^\t\t\t\tzərf Rahat halda; narahatolmadan, rahat-rahat, xatircəmliklə.\t\t\t\t\t\t\t\t\t^^^^ETMƏKLİK^^^^\t\t\t\tköhn. b a x etmək. Mənbəni-adəm üçün görməmişəm səcdə ola;Səcdə etməklik üçün hanı həqqin fərmanı?S.Ə.Şirvani.\t\t\t\t\t\t\t^^^^ANŞLÁQ^^^^\t\t\t\t[alm.] Teatrda, kinoda, sirkdəvə s.-də biletlərin satılıb qurtardığınıbildirən elan.\t\t\t\t\t\t\t\t\t^^^^XURMAYI^^^^\t\t\t\tsif. Xurma rəngində, açıqqəhvəyi.Xurmayı göz.\t\t\t\t\t\t\t\t\t^^^^YORĞALATMA^^^^\t\t\t\t“Yorğalatmaq”dan f.is.\t\t\t\t\t\t\t^^^^C^^^^\t\t\t\tAzərbaycan əlifbasının üçüncü hərfi.Bax ce.\t\t\t\t\t\t\t^^^^GİQANTİ́ZM^^^^\t\t\t\t[yun.] biol. Çox böyük sürətləboy ataraq mövcud normalardan kənaraçıxma (insan, heyvan və ya bədəninayrı-ayrı üzvləri haqqında).\t\t\t\t\t\t\t^^^^ZATIQIRIQLIQ^^^^\t\t\t\tis. dan. Zatıqırıq adamınxüsusiyyəti.\t\t\t\t\t\t\t^^^^\n"
     ]
    }
   ],
   "source": [
    "import sys\n",
    "\n",
    "# print(c)\\n\",\n",
    "#L = \"ABCDEFGHXJKQLMNOPRSTUVYZ\"\n",
    "L = u\"ƏZÇŞ\"\n",
    "import urllib2\n",
    "path = 'obost/'\n",
    "# for c in L :\\n\",\n",
    "#     print(c)\\n\",\n",
    "for c in L :\n",
    "    print(c)\n",
    "    c = c.encode('utf-8')\n",
    "    S = set()\n",
    "    f = open(path+c, 'a')\n",
    "    for i in range(1,10000) :\n",
    "\n",
    "        url = \"https://obastan.com/az/dict/exp/byletter/\"+c+ \"?p=\"+str(i);\n",
    "        print(url)\n",
    "        contents = urllib2.urlopen(url)\n",
    "        data = contents.read().split('\\n')\n",
    "        x = ''.join(data[115:])\n",
    "        print(c,i)\n",
    "        if(x in S) : break\n",
    "        S.add(x)\n",
    "        #print(\"https://obastan.com/az/dict/exp/byletter/\"+c+ \"?p=\"+str(i))\n",
    "    for x in S :\n",
    "        f.write(x)\n",
    "    f.close()\n",
    "# T = \"Ü\"\n",
    "# contents = urllib2.urlopen(\"https://obastan.com/az/dict/exp/byletter/\"+ T+ \"?p=2\")\n",
    "# print(contents)\n"
   ]
  }
 ],
 "metadata": {
  "kernelspec": {
   "display_name": "Python 2",
   "language": "python",
   "name": "python2"
  },
  "language_info": {
   "codemirror_mode": {
    "name": "ipython",
    "version": 2
   },
   "file_extension": ".py",
   "mimetype": "text/x-python",
   "name": "python",
   "nbconvert_exporter": "python",
   "pygments_lexer": "ipython2",
   "version": "2.7.12"
  }
 },
 "nbformat": 4,
 "nbformat_minor": 2
}
