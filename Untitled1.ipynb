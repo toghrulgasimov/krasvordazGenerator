{
 "cells": [
  {
   "cell_type": "code",
   "execution_count": 9,
   "metadata": {},
   "outputs": [],
   "source": [
    "import sys\n",
    "# sys.setdefaultencoding() does not exist, here!\n",
    "reload(sys)  # Reload does the trick!\n",
    "sys.setdefaultencoding('latin-1')\n",
    "\n",
    "c = 'Ş'\n",
    "s = \"qüertyuiopöğasdfghjklıəzxcvbnmçş\"\n",
    "S = \"ÜİÖĞGIƏZÇŞ\"\n",
    "L = []\n",
    "for i in range(len(S)) :\n",
    "    print(S[i])\n",
    "# utfbytes = \"\\xc2\\xa9 \\xc2\\xae \\xe2\\x84\\xa2\"\n",
    "# print utfbytes, len(utfbytes)\n",
    "# for b in utfbytes:\n",
    "#     print b.decode('utf-8'), repr(b)\n",
    "\n",
    "# uni = utfbytes.decode('utf-8')\n",
    "# print uni, len(uni)"
   ]
  }
 ],
 "metadata": {
  "kernelspec": {
   "display_name": "Python 2",
   "language": "python",
   "name": "python2"
  },
  "language_info": {
   "codemirror_mode": {
    "name": "ipython",
    "version": 2
   },
   "file_extension": ".py",
   "mimetype": "text/x-python",
   "name": "python",
   "nbconvert_exporter": "python",
   "pygments_lexer": "ipython2",
   "version": "2.7.12"
  }
 },
 "nbformat": 4,
 "nbformat_minor": 2
}
